{
 "cells": [
  {
   "cell_type": "markdown",
   "metadata": {},
   "source": [
    "# Create and Print Variables\n",
    "\n",
    "# Define variables named city, country, and population.\n",
    "# Assign any values of your choice to these variables.\n",
    "# Print each variable on a separate line.\n",
    "# Define and Update Variables\n"
   ]
  },
  {
   "cell_type": "code",
   "execution_count": 22,
   "metadata": {},
   "outputs": [
    {
     "name": "stdout",
     "output_type": "stream",
     "text": [
      "Chennai\n",
      "India\n",
      "7000000\n",
      "tamilnadu\n",
      "chennai\n",
      "sowcarpet\n"
     ]
    }
   ],
   "source": [
    "# Define variables for city, country, and population\n",
    "city = \"Chennai\"             # Assigning a city name\n",
    "country = \"India\"            # Assigning a country name\n",
    "population = 7000000         # Assigning a population number (example)\n",
    "\n",
    "# Print each variable on a separate line\n",
    "print(city)\n",
    "print(country)\n",
    "print(population)\n",
    "\n",
    "#not \n",
    "\n",
    "india = \"tamilnadu\"\n",
    "tamilnadu = \"chennai\"\n",
    "chennai = \"sowcarpet\"\n",
    "\n",
    "print(india)\n",
    "print(tamilnadu)\n",
    "print(chennai)\n"
   ]
  },
  {
   "cell_type": "markdown",
   "metadata": {},
   "source": [
    "# Create a variable score and set it to an integer value.\n",
    "# Update score by adding 10 to it, then print the updated value.\n",
    "# Concatenate Strings"
   ]
  },
  {
   "cell_type": "code",
   "execution_count": 15,
   "metadata": {},
   "outputs": [
    {
     "name": "stdout",
     "output_type": "stream",
     "text": [
      "100\n",
      "100\n"
     ]
    }
   ],
   "source": [
    "# First Method\n",
    "a = 90       # Initialize variable a with the value 90\n",
    "a += 10     # Update a by adding 10 to its current value\n",
    "print(a)    # This will print 100\n",
    "\n",
    "# or \n",
    "\n",
    "# Second Method\n",
    "a = 90      # Initialize variable a again with the value 90\n",
    "b = 10      # Initialize variable b with the value 10\n",
    "a = a + b   # Update a by adding b to it\n",
    "print(a)    # This will also print 100\n"
   ]
  },
  {
   "cell_type": "markdown",
   "metadata": {},
   "source": [
    "# Define two string variables, greeting and name.\n",
    "# Concatenate them to form a complete sentence and store it in a new variable called welcome_message.\n",
    "# Print welcome_message.\n",
    "# Multiple Assignments\n",
    "\n"
   ]
  },
  {
   "cell_type": "code",
   "execution_count": 17,
   "metadata": {},
   "outputs": [
    {
     "name": "stdout",
     "output_type": "stream",
     "text": [
      "hello kiran\n"
     ]
    }
   ],
   "source": [
    "# Define a string variable 'greeting' and assign it the value \"hello\"\n",
    "greeting = \"hello\" \n",
    "\n",
    "# Define another string variable 'name' and assign it the value \"kiran\"\n",
    "name = \"kiran\"\n",
    "\n",
    "# Print the values of 'greeting' and 'name' together\n",
    "print(greeting, name)\n",
    "# This will output: hello kiran"
   ]
  },
  {
   "cell_type": "markdown",
   "metadata": {},
   "source": [
    "# Assign the same value (e.g., 50) to three variables: a, b, and c.\n",
    "# Print all three variables to confirm they have the same value.\n",
    "# Reassigning Variables"
   ]
  },
  {
   "cell_type": "code",
   "execution_count": 20,
   "metadata": {},
   "outputs": [
    {
     "name": "stdout",
     "output_type": "stream",
     "text": [
      "20 20 20\n",
      "20 20 2\n"
     ]
    }
   ],
   "source": [
    "# Assign the same value (20) to three variables: a, b, and c\n",
    "a = 20\n",
    "b = 20\n",
    "c = 20\n",
    "\n",
    "# Print all three variables to confirm they have the same value\n",
    "print(a, b, c)  # This will output: 20 20 20\n",
    "\n",
    "# Change the value of variable c\n",
    "c = 2\n",
    "\n",
    "# Print the variables again to show the updated value of c\n",
    "print(a, b, c)  # This will output: 20 20 2\n"
   ]
  },
  {
   "cell_type": "markdown",
   "metadata": {},
   "source": [
    "# Create a variable favorite_color and set it to a color of your choice.\n",
    "# Reassign favorite_color to a different color.\n",
    "# Print favorite_color to show the updated value."
   ]
  },
  {
   "cell_type": "code",
   "execution_count": 23,
   "metadata": {},
   "outputs": [
    {
     "name": "stdout",
     "output_type": "stream",
     "text": [
      "orange\n",
      "blue\n"
     ]
    }
   ],
   "source": [
    "# Create a variable favorite_color and set it to \"orange\"\n",
    "favorite_color = \"orange\"\n",
    "\n",
    "# Print the initial value of favorite_color\n",
    "print(favorite_color)  # This will output: orange\n",
    "\n",
    "# Reassign favorite_color to \"blue\"\n",
    "favorite_color = \"blue\"\n",
    "\n",
    "# Print the updated value of favorite_color\n",
    "print(favorite_color)  # This will output: blue\n"
   ]
  }
 ],
 "metadata": {
  "kernelspec": {
   "display_name": "Python 3",
   "language": "python",
   "name": "python3"
  },
  "language_info": {
   "codemirror_mode": {
    "name": "ipython",
    "version": 3
   },
   "file_extension": ".py",
   "mimetype": "text/x-python",
   "name": "python",
   "nbconvert_exporter": "python",
   "pygments_lexer": "ipython3",
   "version": "3.12.6"
  }
 },
 "nbformat": 4,
 "nbformat_minor": 2
}
