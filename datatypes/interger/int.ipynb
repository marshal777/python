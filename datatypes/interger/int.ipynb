{
 "cells": [
  {
   "cell_type": "markdown",
   "metadata": {},
   "source": [
    "1. Integer:\n",
    "\n",
    "What it is: An integer is a whole number (no decimals) and can be positive, negative, or zero.\n",
    "Common Uses:\n",
    "Counting items (like inventory)\n",
    "Basic arithmetic (addition, subtraction, etc.)\n",
    "Using in loops or indexing positions\n"
   ]
  },
  {
   "cell_type": "code",
   "execution_count": null,
   "metadata": {
    "vscode": {
     "languageId": "plaintext"
    }
   },
   "outputs": [],
   "source": [
    "#example\n",
    "apples = 5  # Integer representing the count of apples\n",
    "oranges = 3\n",
    "total_fruits = apples + oranges\n",
    "print(\"Total fruits:\", total_fruits)  # Output: 8\n"
   ]
  }
 ],
 "metadata": {
  "language_info": {
   "name": "python"
  }
 },
 "nbformat": 4,
 "nbformat_minor": 2
}
